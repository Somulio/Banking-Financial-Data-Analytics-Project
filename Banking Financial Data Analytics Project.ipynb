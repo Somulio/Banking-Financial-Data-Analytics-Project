{
 "cells": [
  {
   "cell_type": "code",
   "execution_count": 23,
   "id": "2b1a9224-af0e-4b4c-9777-fc75ef3bbba3",
   "metadata": {
    "scrolled": true
   },
   "outputs": [
    {
     "name": "stdout",
     "output_type": "stream",
     "text": [
      "+----------+------------+---+------+----------+------+-------------+\n",
      "|CustomerID|        Name|Age|Gender|Occupation|Income|MaritalStatus|\n",
      "+----------+------------+---+------+----------+------+-------------+\n",
      "|      C001|Amanda Huber| 65|  Male|    Doctor|186178|      Married|\n",
      "|      C002|Joshua Woods| 35|  Male|   Manager|120302|      Married|\n",
      "|      C003| Emily Clark| 30|Female|  Engineer|198887|      Married|\n",
      "|      C004|  Misty Clay| 61|  Male|    Lawyer|170548|       Single|\n",
      "|      C005|   Joy House| 25|Female|  Engineer| 74552|      Married|\n",
      "+----------+------------+---+------+----------+------+-------------+\n",
      "only showing top 5 rows\n",
      "\n",
      "+------+----------+----------+--------+------------+------------+----------+\n",
      "|LoanID|CustomerID|LoanAmount|LoanType|InterestRate|TenureMonths|LoanStatus|\n",
      "+------+----------+----------+--------+------------+------------+----------+\n",
      "|  L001|      C036|    968315|Business|       11.27|          60|   Default|\n",
      "|  L002|      C024|    280553|Personal|        7.81|          48|   Default|\n",
      "|  L003|      C007|    899902|Personal|        7.94|          48|    Active|\n",
      "|  L004|      C024|     82879|Personal|        7.24|          36|    Active|\n",
      "|  L005|      C011|    527537|    Home|       14.62|          60|      Paid|\n",
      "+------+----------+----------+--------+------------+------------+----------+\n",
      "only showing top 5 rows\n",
      "\n",
      "+-------------+----------+----------+------+---------------+\n",
      "|TransactionID|CustomerID|      Date|Amount|TransactionType|\n",
      "+-------------+----------+----------+------+---------------+\n",
      "|         T001|      C004|2024-11-16|  6068|          Debit|\n",
      "|         T002|      C029|2025-05-06|  6196|         Credit|\n",
      "|         T003|      C033|2024-12-17| 33414|         Credit|\n",
      "|         T004|      C044|2024-11-20| 33186|         Credit|\n",
      "|         T005|      C034|2025-07-29| 36511|          Debit|\n",
      "+-------------+----------+----------+------+---------------+\n",
      "only showing top 5 rows\n",
      "\n"
     ]
    }
   ],
   "source": [
    "# Python + PySpark\n",
    "from pyspark.sql import SparkSession\n",
    "import pandas as pd\n",
    "\n",
    "# Initialize Spark session\n",
    "spark = SparkSession.builder.appName(\"BankFinancialProject\").getOrCreate()\n",
    "\n",
    "# Load CSVs into Spark DataFrames\n",
    "customers = spark.read.csv(\"C:/Users/cscsu/Downloads/Bank Sample Data/customers.csv\", header=True, inferSchema=True)\n",
    "loans = spark.read.csv(\"C:/Users/cscsu/Downloads/Bank Sample Data/loans.csv\", header=True, inferSchema=True)\n",
    "transactions = spark.read.csv(\"C:/Users/cscsu/Downloads/Bank Sample Data/transactions.csv\", header=True, inferSchema=True)\n",
    "\n",
    "# Show sample\n",
    "customers.show(5)\n",
    "loans.show(5)\n",
    "transactions.show(5)\n"
   ]
  },
  {
   "cell_type": "code",
   "execution_count": 25,
   "id": "bed2b29d-cdae-42c4-85f0-d124450b1460",
   "metadata": {},
   "outputs": [],
   "source": [
    "# Drop nulls\n",
    "customers = customers.dropna()\n",
    "loans = loans.dropna()\n",
    "transactions = transactions.dropna()\n",
    "\n",
    "# Convert columns to proper types\n",
    "from pyspark.sql.functions import col\n",
    "loans = loans.withColumn(\"LoanAmount\", col(\"LoanAmount\").cast(\"float\")) \\\n",
    "             .withColumn(\"InterestRate\", col(\"InterestRate\").cast(\"float\")) \\\n",
    "             .withColumn(\"TenureMonths\", col(\"TenureMonths\").cast(\"int\"))\n",
    "\n",
    "transactions = transactions.withColumn(\"Amount\", col(\"Amount\").cast(\"float\"))\n"
   ]
  },
  {
   "cell_type": "code",
   "execution_count": 33,
   "id": "7bc186f4-c6d1-4d45-8cf7-22490075725e",
   "metadata": {},
   "outputs": [
    {
     "name": "stdout",
     "output_type": "stream",
     "text": [
      "root\n",
      " |-- CustomerID: string (nullable = true)\n",
      " |-- Name: string (nullable = true)\n",
      " |-- Age: integer (nullable = true)\n",
      " |-- Gender: string (nullable = true)\n",
      " |-- Occupation: string (nullable = true)\n",
      " |-- Income: integer (nullable = true)\n",
      " |-- MaritalStatus: string (nullable = true)\n",
      " |-- TotalLoan: double (nullable = true)\n",
      " |-- AvgInterest: double (nullable = true)\n",
      " |-- LoanCount: long (nullable = true)\n",
      " |-- TotalTransaction: double (nullable = true)\n",
      " |-- TransactionCount: long (nullable = true)\n",
      "\n",
      "+----------+------------+---+------+----------+------+-------------+---------+------------------+---------+----------------+----------------+\n",
      "|CustomerID|        Name|Age|Gender|Occupation|Income|MaritalStatus|TotalLoan|       AvgInterest|LoanCount|TotalTransaction|TransactionCount|\n",
      "+----------+------------+---+------+----------+------+-------------+---------+------------------+---------+----------------+----------------+\n",
      "|      C001|Amanda Huber| 65|  Male|    Doctor|186178|      Married| 659843.0|11.325000286102295|        2|            NULL|            NULL|\n",
      "|      C002|Joshua Woods| 35|  Male|   Manager|120302|      Married|     NULL|              NULL|     NULL|         58747.0|               2|\n",
      "|      C003| Emily Clark| 30|Female|  Engineer|198887|      Married|     NULL|              NULL|     NULL|            NULL|            NULL|\n",
      "|      C004|  Misty Clay| 61|  Male|    Lawyer|170548|       Single|     NULL|              NULL|     NULL|         62139.0|               3|\n",
      "|      C005|   Joy House| 25|Female|  Engineer| 74552|      Married|2183401.0|12.320000012715658|        3|         65193.0|               2|\n",
      "+----------+------------+---+------+----------+------+-------------+---------+------------------+---------+----------------+----------------+\n",
      "only showing top 5 rows\n",
      "\n"
     ]
    }
   ],
   "source": [
    "from pyspark.sql.functions import sum as _sum, avg, count\n",
    "\n",
    "# Loan summary: aggregate per customer\n",
    "loan_summary = loans.groupBy(\"CustomerID\") \\\n",
    "    .agg(\n",
    "        _sum(\"LoanAmount\").alias(\"TotalLoan\"),\n",
    "        avg(\"InterestRate\").alias(\"AvgInterest\"),\n",
    "        count(\"LoanID\").alias(\"LoanCount\")\n",
    "    )\n",
    "\n",
    "# Transaction summary\n",
    "transaction_summary = transactions.groupBy(\"CustomerID\") \\\n",
    "    .agg(\n",
    "        _sum(\"Amount\").alias(\"TotalTransaction\"),\n",
    "        count(\"TransactionID\").alias(\"TransactionCount\")\n",
    "    )\n",
    "\n",
    "# Merge with customers\n",
    "customer_financials = customers \\\n",
    "    .join(loan_summary, on=\"CustomerID\", how=\"left\") \\\n",
    "    .join(transaction_summary, on=\"CustomerID\", how=\"left\")\n",
    "\n",
    "customer_financials.printSchema()\n",
    "customer_financials.show(5)  # Check column names\n",
    "\n"
   ]
  },
  {
   "cell_type": "code",
   "execution_count": 17,
   "id": "4e4bee0d-e85f-45ef-8a06-8643a22dd3c6",
   "metadata": {},
   "outputs": [],
   "source": [
    "# Join all data\n",
    "# customer_financials = customers.join(loan_summary, on=\"CustomerID\", how=\"left\") \\\n",
    "#                                .join(transaction_summary, on=\"CustomerID\", how=\"left\")\n",
    "# customer_financials.show()\n"
   ]
  },
  {
   "cell_type": "code",
   "execution_count": 41,
   "id": "1f93b25f-c02a-476a-b32e-1ef6951ab713",
   "metadata": {},
   "outputs": [
    {
     "data": {
      "image/png": "[encoded data removed]",
      "text/plain": [
       "<Figure size 640x480 with 1 Axes>"
      ]
     },
     "metadata": {},
     "output_type": "display_data"
    },
    {
     "data": {
      "image/png": "[encoded data removed]",
      "text/plain": [
       "<Figure size 640x480 with 1 Axes>"
      ]
     },
     "metadata": {},
     "output_type": "display_data"
    },
    {
     "name": "stdout",
     "output_type": "stream",
     "text": [
      "+----------+------+----------+---------+------------+------------+----------+------------------+---+------+-----------+------+-------------+---------+------------------+---------+----------------+----------------+\n",
      "|CustomerID|LoanID|LoanAmount| LoanType|InterestRate|TenureMonths|LoanStatus|              Name|Age|Gender| Occupation|Income|MaritalStatus|TotalLoan|       AvgInterest|LoanCount|TotalTransaction|TransactionCount|\n",
      "+----------+------+----------+---------+------------+------------+----------+------------------+---+------+-----------+------+-------------+---------+------------------+---------+----------------+----------------+\n",
      "|      C001|  L036|  264102.0| Personal|       12.31|          48|   Default|      Amanda Huber| 65|  Male|     Doctor|186178|      Married| 659843.0|11.325000286102295|        2|            NULL|            NULL|\n",
      "|      C001|  L033|  395741.0|     Home|       10.34|          36|   Default|      Amanda Huber| 65|  Male|     Doctor|186178|      Married| 659843.0|11.325000286102295|        2|            NULL|            NULL|\n",
      "|      C005|  L049|  997808.0|Education|       13.89|          24|    Active|         Joy House| 25|Female|   Engineer| 74552|      Married|2183401.0|12.320000012715658|        3|         65193.0|               2|\n",
      "|      C005|  L027|  945789.0| Personal|       10.95|          24|   Default|         Joy House| 25|Female|   Engineer| 74552|      Married|2183401.0|12.320000012715658|        3|         65193.0|               2|\n",
      "|      C005|  L006|  239804.0| Business|       12.12|          84|    Active|         Joy House| 25|Female|   Engineer| 74552|      Married|2183401.0|12.320000012715658|        3|         65193.0|               2|\n",
      "|      C006|  L040|  250514.0| Personal|       10.61|          84|      Paid|        Ann Knight| 58|  Male|     Doctor| 94274|      Married|1212646.0|11.315000057220459|        2|         23721.0|               1|\n",
      "|      C006|  L008|  962132.0|Education|       12.02|          72|   Default|        Ann Knight| 58|  Male|     Doctor| 94274|      Married|1212646.0|11.315000057220459|        2|         23721.0|               1|\n",
      "|      C007|  L003|  899902.0| Personal|        7.94|          48|    Active|      Daniel Nixon| 22|Female|    Teacher| 50080|      Married| 899902.0| 7.940000057220459|        1|          8972.0|               1|\n",
      "|      C008|  L046|   82276.0|      Car|       13.74|          48|      Paid|    Kenneth Thomas| 63|Female|     Doctor|107201|       Single|  82276.0|13.739999771118164|        1|            NULL|            NULL|\n",
      "|      C009|  L038|  575879.0| Business|       12.09|          84|    Active|       Shane Silva| 45|  Male|     Doctor| 55829|      Married| 951455.0| 9.700000047683716|        2|            NULL|            NULL|\n",
      "|      C009|  L032|  375576.0|Education|        7.31|          24|   Default|       Shane Silva| 45|  Male|     Doctor| 55829|      Married| 951455.0| 9.700000047683716|        2|            NULL|            NULL|\n",
      "|      C010|  L019|  572222.0|      Car|        9.19|          48|    Active|  Susan Villarreal| 30|  Male|     Doctor| 57230|       Single| 572222.0|   9.1899995803833|        1|            NULL|            NULL|\n",
      "|      C011|  L048|  186807.0| Personal|        13.7|          60|    Active|Melissa Strickland| 46|  Male|    Manager|172008|      Married| 947832.0|14.239999771118164|        3|         79375.0|               2|\n",
      "|      C011|  L044|  233488.0| Business|        14.4|          48|      Paid|Melissa Strickland| 46|  Male|    Manager|172008|      Married| 947832.0|14.239999771118164|        3|         79375.0|               2|\n",
      "|      C011|  L005|  527537.0|     Home|       14.62|          60|      Paid|Melissa Strickland| 46|  Male|    Manager|172008|      Married| 947832.0|14.239999771118164|        3|         79375.0|               2|\n",
      "|      C013|  L010|  707376.0|Education|       12.75|          72|   Default| Michelle Petersen| 37|Female|Businessman|187687|      Married| 707376.0|             12.75|        1|          3147.0|               1|\n",
      "|      C014|  L031|  191349.0|Education|       11.12|          84|    Active|      Donald Cohen| 37|Female|    Teacher|166281|       Single| 191349.0|11.119999885559082|        1|          6200.0|               1|\n",
      "|      C015|  L021|  511169.0|      Car|       12.42|          84|      Paid|       Andrew Park| 63|Female|     Lawyer| 35578|       Single| 511169.0|12.420000076293945|        1|         42926.0|               1|\n",
      "|      C017|  L034|  697697.0|     Home|       11.63|          12|    Active|    Jonathan Leach| 63|Female|    Manager|171377|      Married| 697697.0|11.630000114440918|        1|            NULL|            NULL|\n",
      "|      C020|  L025|  206580.0|     Home|        7.43|          12|    Active|       Robin Small| 24|Female|     Lawyer|168278|       Single| 206580.0| 7.429999828338623|        1|         28727.0|               1|\n",
      "+----------+------+----------+---------+------------+------------+----------+------------------+---+------+-----------+------+-------------+---------+------------------+---------+----------------+----------------+\n",
      "only showing top 20 rows\n",
      "\n"
     ]
    }
   ],
   "source": [
    "import matplotlib.pyplot as plt\n",
    "\n",
    "# Convert to pandas for visualization\n",
    "pdf = customer_financials.toPandas()\n",
    "\n",
    "# Loan amount distribution\n",
    "plt.hist(pdf['TotalLoan'].dropna(), bins=10, color='skyblue')\n",
    "plt.title(\"Total Loan Distribution\")\n",
    "plt.xlabel(\"Loan Amount\")\n",
    "plt.ylabel(\"Number of Customers\")\n",
    "plt.show()\n",
    "\n",
    "# Loan Status vs Income\n",
    "import seaborn as sns\n",
    "loan_merged = loans.join(customer_financials, on=\"CustomerID\")\n",
    "sns.boxplot(x='LoanStatus', y='Income', data=loan_merged.toPandas())\n",
    "plt.title(\"Income vs Loan Status\")\n",
    "plt.show()\n",
    "loan_merged.show()\n"
   ]
  },
  {
   "cell_type": "code",
   "execution_count": 42,
   "id": "e2a5178b-5be9-4395-b419-2c7f5879f126",
   "metadata": {},
   "outputs": [
    {
     "name": "stdout",
     "output_type": "stream",
     "text": [
      "              precision    recall  f1-score   support\n",
      "\n",
      "           0       0.67      0.80      0.73         5\n",
      "           1       0.75      0.60      0.67         5\n",
      "\n",
      "    accuracy                           0.70        10\n",
      "   macro avg       0.71      0.70      0.70        10\n",
      "weighted avg       0.71      0.70      0.70        10\n",
      "\n",
      "[[4 1]\n",
      " [2 3]]\n"
     ]
    }
   ],
   "source": [
    "from sklearn.model_selection import train_test_split\n",
    "from sklearn.ensemble import RandomForestClassifier\n",
    "from sklearn.metrics import classification_report, confusion_matrix\n",
    "\n",
    "# Prepare dataset\n",
    "loan_df = loan_merged.toPandas()\n",
    "loan_df['LoanStatusBinary'] = loan_df['LoanStatus'].apply(lambda x: 1 if x=='Default' else 0)\n",
    "\n",
    "features = ['Income','Age','TotalLoan','LoanCount']\n",
    "X = loan_df[features].fillna(0)\n",
    "y = loan_df['LoanStatusBinary']\n",
    "\n",
    "# Train-test split\n",
    "X_train, X_test, y_train, y_test = train_test_split(X, y, test_size=0.2, random_state=42)\n",
    "\n",
    "# Random Forest Model\n",
    "rf = RandomForestClassifier(n_estimators=100, random_state=42)\n",
    "rf.fit(X_train, y_train)\n",
    "y_pred = rf.predict(X_test)\n",
    "\n",
    "# Evaluation\n",
    "print(classification_report(y_test, y_pred))\n",
    "print(confusion_matrix(y_test, y_pred))\n"
   ]
  },
  {
   "cell_type": "code",
   "execution_count": null,
   "id": "51c817ef-bb12-44b6-af6a-32e94cbd1542",
   "metadata": {},
   "outputs": [],
   "source": []
  }
 ],
 "metadata": {
  "kernelspec": {
   "display_name": "Python [conda env:base] *",
   "language": "python",
   "name": "conda-base-py"
  },
  "language_info": {
   "codemirror_mode": {
    "name": "ipython",
    "version": 3
   },
   "file_extension": ".py",
   "mimetype": "text/x-python",
   "name": "python",
   "nbconvert_exporter": "python",
   "pygments_lexer": "ipython3",
   "version": "3.12.7"
  }
 },
 "nbformat": 4,
 "nbformat_minor": 5
}
